{
  "nbformat": 4,
  "nbformat_minor": 0,
  "metadata": {
    "colab": {
      "provenance": [],
      "include_colab_link": true
    },
    "kernelspec": {
      "name": "python3",
      "display_name": "Python 3"
    },
    "language_info": {
      "name": "python"
    }
  },
  "cells": [
    {
      "cell_type": "markdown",
      "metadata": {
        "id": "view-in-github",
        "colab_type": "text"
      },
      "source": [
        "<a href=\"https://colab.research.google.com/github/MaryamAliAljallaf/Analyzing-NYC-Hyperlocal-Air-Quality-Data-with-Spatial-Join/blob/main/Activity2_questions.ipynb\" target=\"_parent\"><img src=\"https://colab.research.google.com/assets/colab-badge.svg\" alt=\"Open In Colab\"/></a>"
      ]
    },
    {
      "cell_type": "markdown",
      "source": [
        "# Activity #2 (5 marks)"
      ],
      "metadata": {
        "id": "9Hr2lLFuZjja"
      }
    },
    {
      "cell_type": "markdown",
      "source": [
        "\n",
        "Class Activity: Analyzing NYC Hyperlocal Air Quality Data with Spatial Join"
      ],
      "metadata": {
        "id": "bEtXiTwI-yIv"
      }
    },
    {
      "cell_type": "markdown",
      "source": [
        "# Objective:\n",
        "- This activity reinforces concepts from Chapters 6 (Tables), 7 (Visualization), 8 (Functions and Tables), and 9 (Randomness). Students will analyze NYC hyperlocal air quality data using Python in a Jupyter Notebook (Google Colab). The focus will be on leveraging the Table abstraction wherever possible. Additionally, students will use spatial join techniques to combine air quality sensor readings with geographic data."
      ],
      "metadata": {
        "id": "6i3-zemYyZAu"
      }
    },
    {
      "cell_type": "markdown",
      "source": [
        "given a csv file containing longitude, latitude , and pm10  columns [Air Quality data](https://raw.githubusercontent.com/IsamAljawarneh/datasets/master/data/NYC_PM.csv) representing readings of low cost air quality sensor mounted on moving vehicles, in addition to a geojson file containing polygons representing administrative divisions of NYC city known as neighbourhoods [nyc_polygon.geojson](https://raw.githubusercontent.com/IsamAljawarneh/datasets/master/data/nyc_polygon.geojson).\n",
        "# Dataset Description\n",
        "- Air Quality Sensor Readings (NYC_PM.csv) :\n",
        "Attributes: SensorID, time, temperature, humidity, pm25,\n",
        "Focus attributes: temperature, humidity, pm1,pm25,pm10,\n",
        "- City Polygons (nyc_polygon.geojson) :\n",
        "Contains polygons representing neighborhoods or boroughs in NYC.\n",
        "Used for spatially joining geographic information with air quality data."
      ],
      "metadata": {
        "id": "MnPCkUN9-lzy"
      }
    },
    {
      "cell_type": "markdown",
      "source": [
        "## **part - A** preprocessing [0 marks]\n",
        "\n",
        "do all tasks and the subtasks!"
      ],
      "metadata": {
        "id": "_kuVRsJkAh9n"
      }
    },
    {
      "cell_type": "markdown",
      "source": [
        "# Onboarding Code Provided\n",
        "- The following code will be provided in an onboarding Jupyter Notebook to help students get started:\n",
        "\n"
      ],
      "metadata": {
        "id": "cXRH1R-SzPAs"
      }
    },
    {
      "cell_type": "code",
      "source": [
        "'''from google.colab import drive\n",
        "drive.mount('/content/drive')'''"
      ],
      "metadata": {
        "colab": {
          "base_uri": "https://localhost:8080/",
          "height": 35
        },
        "id": "R4ArO-FctZIu",
        "outputId": "e7020e77-1652-4c83-b8e7-1dceb4fb1a45"
      },
      "execution_count": 1,
      "outputs": [
        {
          "output_type": "execute_result",
          "data": {
            "text/plain": [
              "\"from google.colab import drive\\ndrive.mount('/content/drive')\""
            ],
            "application/vnd.google.colaboratory.intrinsic+json": {
              "type": "string"
            }
          },
          "metadata": {},
          "execution_count": 1
        }
      ]
    },
    {
      "cell_type": "markdown",
      "source": [
        "import necessary libraries"
      ],
      "metadata": {
        "id": "9o9eM8IICM-1"
      }
    },
    {
      "cell_type": "code",
      "source": [
        "import pandas as pd\n",
        "import geopandas as gpd\n",
        "import numpy as np\n",
        "import matplotlib.pyplot as plt"
      ],
      "metadata": {
        "id": "DIyY1q36ta3G"
      },
      "execution_count": 2,
      "outputs": []
    },
    {
      "cell_type": "code",
      "source": [
        "from datascience import *\n",
        "%matplotlib inline\n",
        "#path_data = '../../../assets/data/'\n",
        "import matplotlib.pyplot as plt\n",
        "plt.style.use('fivethirtyeight')\n",
        "import numpy as np"
      ],
      "metadata": {
        "id": "8ipkPRynmWGz"
      },
      "execution_count": 3,
      "outputs": []
    },
    {
      "cell_type": "markdown",
      "source": [
        "###1. Read the CSV file containing PM sensor readings\n",
        " & Read the GeoJSON file containing neighborhood boundaries into a GeoDataFrame"
      ],
      "metadata": {
        "id": "11VvbD-a6ur8"
      }
    },
    {
      "cell_type": "code",
      "source": [
        "\n",
        "# Step 1: Read the CSV file containing PM10 sensor readings\n",
        "pm10_data = pd.read_csv('https://raw.githubusercontent.com/IsamAljawarneh/datasets/master/data/NYC_PM.csv',index_col=False)\n",
        "\n",
        "# Step 2: Read the GeoJSON file containing neighborhood boundaries into a GeoDataFrame\n",
        "nyc_neighborhoods = gpd.read_file('https://raw.githubusercontent.com/IsamAljawarneh/datasets/master/data/nyc_polygon.geojson')\n"
      ],
      "metadata": {
        "id": "CYk7KfJqueQW"
      },
      "execution_count": 4,
      "outputs": []
    },
    {
      "cell_type": "code",
      "source": [
        "pm10_data.dtypes"
      ],
      "metadata": {
        "id": "VAMLIDAKu289",
        "colab": {
          "base_uri": "https://localhost:8080/",
          "height": 1000
        },
        "outputId": "b634cf65-5199-4e81-e123-7bb22c2aa37a"
      },
      "execution_count": 5,
      "outputs": [
        {
          "output_type": "execute_result",
          "data": {
            "text/plain": [
              "SensorID        object\n",
              "time             int64\n",
              "latitude       float64\n",
              "longitude      float64\n",
              "bin0             int64\n",
              "bin1             int64\n",
              "bin2             int64\n",
              "bin3             int64\n",
              "bin4             int64\n",
              "bin5             int64\n",
              "bin6             int64\n",
              "bin7             int64\n",
              "bin8             int64\n",
              "bin9             int64\n",
              "bin10            int64\n",
              "bin11            int64\n",
              "bin12          float64\n",
              "bin13          float64\n",
              "bin14          float64\n",
              "bin15          float64\n",
              "bin16          float64\n",
              "bin17          float64\n",
              "bin18          float64\n",
              "bin19          float64\n",
              "bin20          float64\n",
              "bin21          float64\n",
              "bin22          float64\n",
              "bin23          float64\n",
              "temperature    float64\n",
              "humidity       float64\n",
              "pm1            float64\n",
              "pm25           float64\n",
              "pm10           float64\n",
              "dtype: object"
            ],
            "text/html": [
              "<div>\n",
              "<style scoped>\n",
              "    .dataframe tbody tr th:only-of-type {\n",
              "        vertical-align: middle;\n",
              "    }\n",
              "\n",
              "    .dataframe tbody tr th {\n",
              "        vertical-align: top;\n",
              "    }\n",
              "\n",
              "    .dataframe thead th {\n",
              "        text-align: right;\n",
              "    }\n",
              "</style>\n",
              "<table border=\"1\" class=\"dataframe\">\n",
              "  <thead>\n",
              "    <tr style=\"text-align: right;\">\n",
              "      <th></th>\n",
              "      <th>0</th>\n",
              "    </tr>\n",
              "  </thead>\n",
              "  <tbody>\n",
              "    <tr>\n",
              "      <th>SensorID</th>\n",
              "      <td>object</td>\n",
              "    </tr>\n",
              "    <tr>\n",
              "      <th>time</th>\n",
              "      <td>int64</td>\n",
              "    </tr>\n",
              "    <tr>\n",
              "      <th>latitude</th>\n",
              "      <td>float64</td>\n",
              "    </tr>\n",
              "    <tr>\n",
              "      <th>longitude</th>\n",
              "      <td>float64</td>\n",
              "    </tr>\n",
              "    <tr>\n",
              "      <th>bin0</th>\n",
              "      <td>int64</td>\n",
              "    </tr>\n",
              "    <tr>\n",
              "      <th>bin1</th>\n",
              "      <td>int64</td>\n",
              "    </tr>\n",
              "    <tr>\n",
              "      <th>bin2</th>\n",
              "      <td>int64</td>\n",
              "    </tr>\n",
              "    <tr>\n",
              "      <th>bin3</th>\n",
              "      <td>int64</td>\n",
              "    </tr>\n",
              "    <tr>\n",
              "      <th>bin4</th>\n",
              "      <td>int64</td>\n",
              "    </tr>\n",
              "    <tr>\n",
              "      <th>bin5</th>\n",
              "      <td>int64</td>\n",
              "    </tr>\n",
              "    <tr>\n",
              "      <th>bin6</th>\n",
              "      <td>int64</td>\n",
              "    </tr>\n",
              "    <tr>\n",
              "      <th>bin7</th>\n",
              "      <td>int64</td>\n",
              "    </tr>\n",
              "    <tr>\n",
              "      <th>bin8</th>\n",
              "      <td>int64</td>\n",
              "    </tr>\n",
              "    <tr>\n",
              "      <th>bin9</th>\n",
              "      <td>int64</td>\n",
              "    </tr>\n",
              "    <tr>\n",
              "      <th>bin10</th>\n",
              "      <td>int64</td>\n",
              "    </tr>\n",
              "    <tr>\n",
              "      <th>bin11</th>\n",
              "      <td>int64</td>\n",
              "    </tr>\n",
              "    <tr>\n",
              "      <th>bin12</th>\n",
              "      <td>float64</td>\n",
              "    </tr>\n",
              "    <tr>\n",
              "      <th>bin13</th>\n",
              "      <td>float64</td>\n",
              "    </tr>\n",
              "    <tr>\n",
              "      <th>bin14</th>\n",
              "      <td>float64</td>\n",
              "    </tr>\n",
              "    <tr>\n",
              "      <th>bin15</th>\n",
              "      <td>float64</td>\n",
              "    </tr>\n",
              "    <tr>\n",
              "      <th>bin16</th>\n",
              "      <td>float64</td>\n",
              "    </tr>\n",
              "    <tr>\n",
              "      <th>bin17</th>\n",
              "      <td>float64</td>\n",
              "    </tr>\n",
              "    <tr>\n",
              "      <th>bin18</th>\n",
              "      <td>float64</td>\n",
              "    </tr>\n",
              "    <tr>\n",
              "      <th>bin19</th>\n",
              "      <td>float64</td>\n",
              "    </tr>\n",
              "    <tr>\n",
              "      <th>bin20</th>\n",
              "      <td>float64</td>\n",
              "    </tr>\n",
              "    <tr>\n",
              "      <th>bin21</th>\n",
              "      <td>float64</td>\n",
              "    </tr>\n",
              "    <tr>\n",
              "      <th>bin22</th>\n",
              "      <td>float64</td>\n",
              "    </tr>\n",
              "    <tr>\n",
              "      <th>bin23</th>\n",
              "      <td>float64</td>\n",
              "    </tr>\n",
              "    <tr>\n",
              "      <th>temperature</th>\n",
              "      <td>float64</td>\n",
              "    </tr>\n",
              "    <tr>\n",
              "      <th>humidity</th>\n",
              "      <td>float64</td>\n",
              "    </tr>\n",
              "    <tr>\n",
              "      <th>pm1</th>\n",
              "      <td>float64</td>\n",
              "    </tr>\n",
              "    <tr>\n",
              "      <th>pm25</th>\n",
              "      <td>float64</td>\n",
              "    </tr>\n",
              "    <tr>\n",
              "      <th>pm10</th>\n",
              "      <td>float64</td>\n",
              "    </tr>\n",
              "  </tbody>\n",
              "</table>\n",
              "</div><br><label><b>dtype:</b> object</label>"
            ]
          },
          "metadata": {},
          "execution_count": 5
        }
      ]
    },
    {
      "cell_type": "markdown",
      "source": [
        "### 2. convert the csv into a geodataframe and join it (sjoin) with the geojson, assign a coordinate reference system (CRS) the csv geodataframe which is identical to that of the geojson file, then perform the join, the result is a geodataframe, convert it to dataframe, and select pm10, neighborhood columns in a new dataframe"
      ],
      "metadata": {
        "id": "tKKuGLIl682s"
      }
    },
    {
      "cell_type": "code",
      "source": [
        "pm10_gdf = gpd.GeoDataFrame(pm10_data, geometry=gpd.points_from_xy(pm10_data.longitude, pm10_data.latitude))\n",
        "merged_data = gpd.sjoin(pm10_gdf, nyc_neighborhoods, how='inner', predicate='within')"
      ],
      "metadata": {
        "id": "LDdZ3JM9vABk",
        "colab": {
          "base_uri": "https://localhost:8080/"
        },
        "outputId": "93ec2312-72bf-4cc6-eddc-5cc603782ec5"
      },
      "execution_count": 6,
      "outputs": [
        {
          "output_type": "stream",
          "name": "stderr",
          "text": [
            "<ipython-input-6-d43866676e2a>:2: UserWarning: CRS mismatch between the CRS of left geometries and the CRS of right geometries.\n",
            "Use `to_crs()` to reproject one of the input geometries to match the CRS of the other.\n",
            "\n",
            "Left CRS: None\n",
            "Right CRS: EPSG:4326\n",
            "\n",
            "  merged_data = gpd.sjoin(pm10_gdf, nyc_neighborhoods, how='inner', predicate='within')\n"
          ]
        }
      ]
    },
    {
      "cell_type": "code",
      "source": [
        "#merged_data.dtypes"
      ],
      "metadata": {
        "id": "4YTL56jpvPDW"
      },
      "execution_count": 7,
      "outputs": []
    },
    {
      "cell_type": "code",
      "source": [
        "pollution_data = merged_data[['pm10','neighborhood']]"
      ],
      "metadata": {
        "id": "1XPU0kp4hwnf"
      },
      "execution_count": 8,
      "outputs": []
    },
    {
      "cell_type": "code",
      "source": [
        "pollution_data.shape[0]"
      ],
      "metadata": {
        "colab": {
          "base_uri": "https://localhost:8080/"
        },
        "id": "T3gx_my1iAoi",
        "outputId": "f0342830-9aba-4fcc-d830-11b2dbb29881"
      },
      "execution_count": 9,
      "outputs": [
        {
          "output_type": "execute_result",
          "data": {
            "text/plain": [
              "118495"
            ]
          },
          "metadata": {},
          "execution_count": 9
        }
      ]
    },
    {
      "cell_type": "code",
      "source": [
        "#merged_data.rename(columns={'neighborhood': 'neighborhood1'}, inplace=True)"
      ],
      "metadata": {
        "id": "P4M9bOYqy09e"
      },
      "execution_count": 10,
      "outputs": []
    },
    {
      "cell_type": "code",
      "source": [
        "type(pollution_data)"
      ],
      "metadata": {
        "colab": {
          "base_uri": "https://localhost:8080/",
          "height": 204
        },
        "id": "a8C-waCXk8JE",
        "outputId": "4b614d1c-e15e-4428-c0c7-498b166fa52f"
      },
      "execution_count": 11,
      "outputs": [
        {
          "output_type": "execute_result",
          "data": {
            "text/plain": [
              "pandas.core.frame.DataFrame"
            ],
            "text/html": [
              "<div style=\"max-width:800px; border: 1px solid var(--colab-border-color);\"><style>\n",
              "      pre.function-repr-contents {\n",
              "        overflow-x: auto;\n",
              "        padding: 8px 12px;\n",
              "        max-height: 500px;\n",
              "      }\n",
              "\n",
              "      pre.function-repr-contents.function-repr-contents-collapsed {\n",
              "        cursor: pointer;\n",
              "        max-height: 100px;\n",
              "      }\n",
              "    </style>\n",
              "    <pre style=\"white-space: initial; background:\n",
              "         var(--colab-secondary-surface-color); padding: 8px 12px;\n",
              "         border-bottom: 1px solid var(--colab-border-color);\"><b>pandas.core.frame.DataFrame</b><br/>def __init__(data=None, index: Axes | None=None, columns: Axes | None=None, dtype: Dtype | None=None, copy: bool | None=None) -&gt; None</pre><pre class=\"function-repr-contents function-repr-contents-collapsed\" style=\"\"><a class=\"filepath\" style=\"display:none\" href=\"#\">/usr/local/lib/python3.11/dist-packages/pandas/core/frame.py</a>Two-dimensional, size-mutable, potentially heterogeneous tabular data.\n",
              "\n",
              "Data structure also contains labeled axes (rows and columns).\n",
              "Arithmetic operations align on both row and column labels. Can be\n",
              "thought of as a dict-like container for Series objects. The primary\n",
              "pandas data structure.\n",
              "\n",
              "Parameters\n",
              "----------\n",
              "data : ndarray (structured or homogeneous), Iterable, dict, or DataFrame\n",
              "    Dict can contain Series, arrays, constants, dataclass or list-like objects. If\n",
              "    data is a dict, column order follows insertion-order. If a dict contains Series\n",
              "    which have an index defined, it is aligned by its index. This alignment also\n",
              "    occurs if data is a Series or a DataFrame itself. Alignment is done on\n",
              "    Series/DataFrame inputs.\n",
              "\n",
              "    If data is a list of dicts, column order follows insertion-order.\n",
              "\n",
              "index : Index or array-like\n",
              "    Index to use for resulting frame. Will default to RangeIndex if\n",
              "    no indexing information part of input data and no index provided.\n",
              "columns : Index or array-like\n",
              "    Column labels to use for resulting frame when data does not have them,\n",
              "    defaulting to RangeIndex(0, 1, 2, ..., n). If data contains column labels,\n",
              "    will perform column selection instead.\n",
              "dtype : dtype, default None\n",
              "    Data type to force. Only a single dtype is allowed. If None, infer.\n",
              "copy : bool or None, default None\n",
              "    Copy data from inputs.\n",
              "    For dict data, the default of None behaves like ``copy=True``.  For DataFrame\n",
              "    or 2d ndarray input, the default of None behaves like ``copy=False``.\n",
              "    If data is a dict containing one or more Series (possibly of different dtypes),\n",
              "    ``copy=False`` will ensure that these inputs are not copied.\n",
              "\n",
              "    .. versionchanged:: 1.3.0\n",
              "\n",
              "See Also\n",
              "--------\n",
              "DataFrame.from_records : Constructor from tuples, also record arrays.\n",
              "DataFrame.from_dict : From dicts of Series, arrays, or dicts.\n",
              "read_csv : Read a comma-separated values (csv) file into DataFrame.\n",
              "read_table : Read general delimited file into DataFrame.\n",
              "read_clipboard : Read text from clipboard into DataFrame.\n",
              "\n",
              "Notes\n",
              "-----\n",
              "Please reference the :ref:`User Guide &lt;basics.dataframe&gt;` for more information.\n",
              "\n",
              "Examples\n",
              "--------\n",
              "Constructing DataFrame from a dictionary.\n",
              "\n",
              "&gt;&gt;&gt; d = {&#x27;col1&#x27;: [1, 2], &#x27;col2&#x27;: [3, 4]}\n",
              "&gt;&gt;&gt; df = pd.DataFrame(data=d)\n",
              "&gt;&gt;&gt; df\n",
              "   col1  col2\n",
              "0     1     3\n",
              "1     2     4\n",
              "\n",
              "Notice that the inferred dtype is int64.\n",
              "\n",
              "&gt;&gt;&gt; df.dtypes\n",
              "col1    int64\n",
              "col2    int64\n",
              "dtype: object\n",
              "\n",
              "To enforce a single dtype:\n",
              "\n",
              "&gt;&gt;&gt; df = pd.DataFrame(data=d, dtype=np.int8)\n",
              "&gt;&gt;&gt; df.dtypes\n",
              "col1    int8\n",
              "col2    int8\n",
              "dtype: object\n",
              "\n",
              "Constructing DataFrame from a dictionary including Series:\n",
              "\n",
              "&gt;&gt;&gt; d = {&#x27;col1&#x27;: [0, 1, 2, 3], &#x27;col2&#x27;: pd.Series([2, 3], index=[2, 3])}\n",
              "&gt;&gt;&gt; pd.DataFrame(data=d, index=[0, 1, 2, 3])\n",
              "   col1  col2\n",
              "0     0   NaN\n",
              "1     1   NaN\n",
              "2     2   2.0\n",
              "3     3   3.0\n",
              "\n",
              "Constructing DataFrame from numpy ndarray:\n",
              "\n",
              "&gt;&gt;&gt; df2 = pd.DataFrame(np.array([[1, 2, 3], [4, 5, 6], [7, 8, 9]]),\n",
              "...                    columns=[&#x27;a&#x27;, &#x27;b&#x27;, &#x27;c&#x27;])\n",
              "&gt;&gt;&gt; df2\n",
              "   a  b  c\n",
              "0  1  2  3\n",
              "1  4  5  6\n",
              "2  7  8  9\n",
              "\n",
              "Constructing DataFrame from a numpy ndarray that has labeled columns:\n",
              "\n",
              "&gt;&gt;&gt; data = np.array([(1, 2, 3), (4, 5, 6), (7, 8, 9)],\n",
              "...                 dtype=[(&quot;a&quot;, &quot;i4&quot;), (&quot;b&quot;, &quot;i4&quot;), (&quot;c&quot;, &quot;i4&quot;)])\n",
              "&gt;&gt;&gt; df3 = pd.DataFrame(data, columns=[&#x27;c&#x27;, &#x27;a&#x27;])\n",
              "...\n",
              "&gt;&gt;&gt; df3\n",
              "   c  a\n",
              "0  3  1\n",
              "1  6  4\n",
              "2  9  7\n",
              "\n",
              "Constructing DataFrame from dataclass:\n",
              "\n",
              "&gt;&gt;&gt; from dataclasses import make_dataclass\n",
              "&gt;&gt;&gt; Point = make_dataclass(&quot;Point&quot;, [(&quot;x&quot;, int), (&quot;y&quot;, int)])\n",
              "&gt;&gt;&gt; pd.DataFrame([Point(0, 0), Point(0, 3), Point(2, 3)])\n",
              "   x  y\n",
              "0  0  0\n",
              "1  0  3\n",
              "2  2  3\n",
              "\n",
              "Constructing DataFrame from Series/DataFrame:\n",
              "\n",
              "&gt;&gt;&gt; ser = pd.Series([1, 2, 3], index=[&quot;a&quot;, &quot;b&quot;, &quot;c&quot;])\n",
              "&gt;&gt;&gt; df = pd.DataFrame(data=ser, index=[&quot;a&quot;, &quot;c&quot;])\n",
              "&gt;&gt;&gt; df\n",
              "   0\n",
              "a  1\n",
              "c  3\n",
              "\n",
              "&gt;&gt;&gt; df1 = pd.DataFrame([1, 2, 3], index=[&quot;a&quot;, &quot;b&quot;, &quot;c&quot;], columns=[&quot;x&quot;])\n",
              "&gt;&gt;&gt; df2 = pd.DataFrame(data=df1, index=[&quot;a&quot;, &quot;c&quot;])\n",
              "&gt;&gt;&gt; df2\n",
              "   x\n",
              "a  1\n",
              "c  3</pre>\n",
              "      <script>\n",
              "      if (google.colab.kernel.accessAllowed && google.colab.files && google.colab.files.view) {\n",
              "        for (const element of document.querySelectorAll('.filepath')) {\n",
              "          element.style.display = 'block'\n",
              "          element.onclick = (event) => {\n",
              "            event.preventDefault();\n",
              "            event.stopPropagation();\n",
              "            google.colab.files.view(element.textContent, 509);\n",
              "          };\n",
              "        }\n",
              "      }\n",
              "      for (const element of document.querySelectorAll('.function-repr-contents')) {\n",
              "        element.onclick = (event) => {\n",
              "          event.preventDefault();\n",
              "          event.stopPropagation();\n",
              "          element.classList.toggle('function-repr-contents-collapsed');\n",
              "        };\n",
              "      }\n",
              "      </script>\n",
              "      </div>"
            ]
          },
          "metadata": {},
          "execution_count": 11
        }
      ]
    },
    {
      "cell_type": "markdown",
      "source": [
        "3. you need to convert</h1></section> from dataframe to Datascience Table. Use the following format: ```Table.from_df(df, keep_index=False)``` read more here\n",
        "[create DS Table from DF](https://www.data8.org/datascience/_autosummary/datascience.tables.Table.from_df.html)\n",
        "\n",
        "**N.B.** <font color='red'>NOW, perform all tasks using the table abstraction as we have learned in the class!</font>"
      ],
      "metadata": {
        "id": "ajH-jZyp8neJ"
      }
    },
    {
      "cell_type": "markdown",
      "source": [
        "the following is the opposite:\n",
        "\n",
        "[Table.to_df](https://www.data8.org/datascience/_autosummary/datascience.tables.Table.to_df.html)"
      ],
      "metadata": {
        "id": "ansU7tkQ9cj5"
      }
    },
    {
      "cell_type": "markdown",
      "source": [
        "what is the maximum pm10 value"
      ],
      "metadata": {
        "id": "2zHvKSpo7nX0"
      }
    },
    {
      "cell_type": "code",
      "source": [
        "pollution_data['pm10'].max()"
      ],
      "metadata": {
        "colab": {
          "base_uri": "https://localhost:8080/"
        },
        "id": "A-Ikgdphzdha",
        "outputId": "5733d0dd-e33d-451f-8866-29a43fd6b4c4"
      },
      "execution_count": 12,
      "outputs": [
        {
          "output_type": "execute_result",
          "data": {
            "text/plain": [
              "87341.71"
            ]
          },
          "metadata": {},
          "execution_count": 12
        }
      ]
    },
    {
      "cell_type": "markdown",
      "source": [
        "what is the minimum pm10 value"
      ],
      "metadata": {
        "id": "RgKB2UJo7rWW"
      }
    },
    {
      "cell_type": "code",
      "source": [
        "pollution_data['pm10'].min()"
      ],
      "metadata": {
        "colab": {
          "base_uri": "https://localhost:8080/"
        },
        "id": "qqANkwbXzmF5",
        "outputId": "c2b54bd5-7456-4540-93e7-96c18a2e29a2"
      },
      "execution_count": 13,
      "outputs": [
        {
          "output_type": "execute_result",
          "data": {
            "text/plain": [
              "0.0"
            ]
          },
          "metadata": {},
          "execution_count": 13
        }
      ]
    },
    {
      "cell_type": "code",
      "source": [
        "joined_table = Table().from_df(pollution_data)"
      ],
      "metadata": {
        "id": "zsjLIScVmM9a"
      },
      "execution_count": 14,
      "outputs": []
    },
    {
      "cell_type": "markdown",
      "source": [
        "show the first few rows of the table?"
      ],
      "metadata": {
        "id": "KsUXysj_B1T9"
      }
    },
    {
      "cell_type": "code",
      "source": [
        "joined_table.show(5)"
      ],
      "metadata": {
        "colab": {
          "base_uri": "https://localhost:8080/",
          "height": 236
        },
        "id": "lhgoak8vzEfS",
        "outputId": "4881be1f-b997-412b-cf4f-61680a8ff040"
      },
      "execution_count": 15,
      "outputs": [
        {
          "output_type": "display_data",
          "data": {
            "text/plain": [
              "<IPython.core.display.HTML object>"
            ],
            "text/html": [
              "<table border=\"1\" class=\"dataframe\">\n",
              "    <thead>\n",
              "        <tr>\n",
              "            <th>pm10</th> <th>neighborhood</th>\n",
              "        </tr>\n",
              "    </thead>\n",
              "    <tbody>\n",
              "        <tr>\n",
              "            <td>11.35</td> <td>Bronx Park  </td>\n",
              "        </tr>\n",
              "        <tr>\n",
              "            <td>1.18 </td> <td>Bronx Park  </td>\n",
              "        </tr>\n",
              "        <tr>\n",
              "            <td>0.76 </td> <td>Bronx Park  </td>\n",
              "        </tr>\n",
              "        <tr>\n",
              "            <td>47.36</td> <td>Bronx Park  </td>\n",
              "        </tr>\n",
              "        <tr>\n",
              "            <td>6.18 </td> <td>Bronx Park  </td>\n",
              "        </tr>\n",
              "    </tbody>\n",
              "</table>\n",
              "<p>... (118490 rows omitted)</p>"
            ]
          },
          "metadata": {}
        }
      ]
    },
    {
      "cell_type": "markdown",
      "source": [
        "print minimum and maximum pm10 values?"
      ],
      "metadata": {
        "id": "zgAZOxbYB56N"
      }
    },
    {
      "cell_type": "code",
      "source": [
        "pm10 = joined_table.column('pm10')\n",
        "min(pm10), max(pm10)"
      ],
      "metadata": {
        "colab": {
          "base_uri": "https://localhost:8080/"
        },
        "id": "19ncrqo0y8l5",
        "outputId": "356918b0-731a-4f0c-d43b-3c4966a7414c"
      },
      "execution_count": 16,
      "outputs": [
        {
          "output_type": "execute_result",
          "data": {
            "text/plain": [
              "(0.0, 87341.710000000006)"
            ]
          },
          "metadata": {},
          "execution_count": 16
        }
      ]
    },
    {
      "cell_type": "markdown",
      "source": [
        "#Instructions for Students\n",
        "-You task is to analyze NYC hyperlocal air quality data using the provided dataset. Complete the following tasks in your Jupyter Notebook. Each task is worth 1 mark , for a total of 5 marks . Use the Table abstraction wherever possible."
      ],
      "metadata": {
        "id": "kkbu-cal0QRc"
      }
    },
    {
      "cell_type": "markdown",
      "source": [
        "# Tasks"
      ],
      "metadata": {
        "id": "lNeAe-ZH0eL2"
      }
    },
    {
      "cell_type": "markdown",
      "source": [
        "###Task 1: Explore the Joined Data Using Tables (1 Mark)\n",
        "- Display the first 5 rows of the joined_table using .show().\n",
        "- Print the number of rows and columns in the table.\n",
        "- Identify any missing values in the table and handle them appropriately (e.g., drop rows with missing values or fill them with a default value)."
      ],
      "metadata": {
        "id": "TdamjDqe7vYk"
      }
    },
    {
      "cell_type": "code",
      "source": [
        "#Display the first 5 rows of the joined_table using .show()\n",
        "joined_table.show(5)"
      ],
      "metadata": {
        "colab": {
          "base_uri": "https://localhost:8080/",
          "height": 236
        },
        "id": "6S4j7IEDmeo_",
        "outputId": "dfd737a9-f151-4886-8148-8babee5510fe"
      },
      "execution_count": 17,
      "outputs": [
        {
          "output_type": "display_data",
          "data": {
            "text/plain": [
              "<IPython.core.display.HTML object>"
            ],
            "text/html": [
              "<table border=\"1\" class=\"dataframe\">\n",
              "    <thead>\n",
              "        <tr>\n",
              "            <th>pm10</th> <th>neighborhood</th>\n",
              "        </tr>\n",
              "    </thead>\n",
              "    <tbody>\n",
              "        <tr>\n",
              "            <td>11.35</td> <td>Bronx Park  </td>\n",
              "        </tr>\n",
              "        <tr>\n",
              "            <td>1.18 </td> <td>Bronx Park  </td>\n",
              "        </tr>\n",
              "        <tr>\n",
              "            <td>0.76 </td> <td>Bronx Park  </td>\n",
              "        </tr>\n",
              "        <tr>\n",
              "            <td>47.36</td> <td>Bronx Park  </td>\n",
              "        </tr>\n",
              "        <tr>\n",
              "            <td>6.18 </td> <td>Bronx Park  </td>\n",
              "        </tr>\n",
              "    </tbody>\n",
              "</table>\n",
              "<p>... (118490 rows omitted)</p>"
            ]
          },
          "metadata": {}
        }
      ]
    },
    {
      "cell_type": "code",
      "source": [
        "#Print the number of rows and columns in the table.\n",
        "print(\"number of columns: \"+ str(joined_table.num_columns))\n",
        "print(\"number of rows: \"+ str(joined_table.num_rows))"
      ],
      "metadata": {
        "colab": {
          "base_uri": "https://localhost:8080/"
        },
        "id": "0pcuu9HemtJm",
        "outputId": "7e1ce61f-ecd9-4e79-ae2f-2926502e9ac2"
      },
      "execution_count": 18,
      "outputs": [
        {
          "output_type": "stream",
          "name": "stdout",
          "text": [
            "number of columns: 2\n",
            "number of rows: 118495\n"
          ]
        }
      ]
    },
    {
      "cell_type": "code",
      "source": [
        "#Identify any missing values in the table and handle them appropriately (e.g., drop rows with missing values or fill them with a default value).\n",
        "joined_table.where('neighborhood',are.equal_to(''))"
      ],
      "metadata": {
        "colab": {
          "base_uri": "https://localhost:8080/",
          "height": 49
        },
        "id": "u1ShNDPWwM80",
        "outputId": "29df4f71-43bf-4172-c46b-ee075b282923"
      },
      "execution_count": 19,
      "outputs": [
        {
          "output_type": "execute_result",
          "data": {
            "text/plain": [
              "pm10 | neighborhood"
            ],
            "text/html": [
              "<table border=\"1\" class=\"dataframe\">\n",
              "    <thead>\n",
              "        <tr>\n",
              "            <th>pm10</th> <th>neighborhood</th>\n",
              "        </tr>\n",
              "    </thead>\n",
              "    <tbody>\n",
              "    </tbody>\n",
              "</table>"
            ]
          },
          "metadata": {},
          "execution_count": 19
        }
      ]
    },
    {
      "cell_type": "code",
      "source": [
        "joined_table.where('neighborhood',are.equal_to(None))"
      ],
      "metadata": {
        "colab": {
          "base_uri": "https://localhost:8080/",
          "height": 49
        },
        "id": "auA6P2GWz0K9",
        "outputId": "71e41a48-2e70-4a51-dcdd-b3bb73dde985"
      },
      "execution_count": 20,
      "outputs": [
        {
          "output_type": "execute_result",
          "data": {
            "text/plain": [
              "pm10 | neighborhood"
            ],
            "text/html": [
              "<table border=\"1\" class=\"dataframe\">\n",
              "    <thead>\n",
              "        <tr>\n",
              "            <th>pm10</th> <th>neighborhood</th>\n",
              "        </tr>\n",
              "    </thead>\n",
              "    <tbody>\n",
              "    </tbody>\n",
              "</table>"
            ]
          },
          "metadata": {},
          "execution_count": 20
        }
      ]
    },
    {
      "cell_type": "code",
      "source": [
        "joined_table.where('pm10',are.equal_to(None))"
      ],
      "metadata": {
        "colab": {
          "base_uri": "https://localhost:8080/",
          "height": 49
        },
        "id": "MlM4NR1UztZZ",
        "outputId": "643ea02f-0872-4b1d-f4c8-f50cd7f08763"
      },
      "execution_count": 21,
      "outputs": [
        {
          "output_type": "execute_result",
          "data": {
            "text/plain": [
              "pm10 | neighborhood"
            ],
            "text/html": [
              "<table border=\"1\" class=\"dataframe\">\n",
              "    <thead>\n",
              "        <tr>\n",
              "            <th>pm10</th> <th>neighborhood</th>\n",
              "        </tr>\n",
              "    </thead>\n",
              "    <tbody>\n",
              "    </tbody>\n",
              "</table>"
            ]
          },
          "metadata": {},
          "execution_count": 21
        }
      ]
    },
    {
      "cell_type": "code",
      "source": [
        "joined_table.where('pm10',are.equal_to(0))\n"
      ],
      "metadata": {
        "colab": {
          "base_uri": "https://localhost:8080/",
          "height": 392
        },
        "id": "iom2Xgdby_h-",
        "outputId": "b4992478-ebf5-42b8-be14-4cab85452596"
      },
      "execution_count": 22,
      "outputs": [
        {
          "output_type": "execute_result",
          "data": {
            "text/plain": [
              "pm10 | neighborhood\n",
              "0    | Bronx Park\n",
              "0    | Harlem\n",
              "0    | Bronx Park\n",
              "0    | Bronx Park\n",
              "0    | Van Nest\n",
              "0    | Van Nest\n",
              "0    | Van Nest\n",
              "0    | Van Nest\n",
              "0    | Van Nest\n",
              "0    | Van Nest\n",
              "... (2858 rows omitted)"
            ],
            "text/html": [
              "<table border=\"1\" class=\"dataframe\">\n",
              "    <thead>\n",
              "        <tr>\n",
              "            <th>pm10</th> <th>neighborhood</th>\n",
              "        </tr>\n",
              "    </thead>\n",
              "    <tbody>\n",
              "        <tr>\n",
              "            <td>0   </td> <td>Bronx Park  </td>\n",
              "        </tr>\n",
              "        <tr>\n",
              "            <td>0   </td> <td>Harlem      </td>\n",
              "        </tr>\n",
              "        <tr>\n",
              "            <td>0   </td> <td>Bronx Park  </td>\n",
              "        </tr>\n",
              "        <tr>\n",
              "            <td>0   </td> <td>Bronx Park  </td>\n",
              "        </tr>\n",
              "        <tr>\n",
              "            <td>0   </td> <td>Van Nest    </td>\n",
              "        </tr>\n",
              "        <tr>\n",
              "            <td>0   </td> <td>Van Nest    </td>\n",
              "        </tr>\n",
              "        <tr>\n",
              "            <td>0   </td> <td>Van Nest    </td>\n",
              "        </tr>\n",
              "        <tr>\n",
              "            <td>0   </td> <td>Van Nest    </td>\n",
              "        </tr>\n",
              "        <tr>\n",
              "            <td>0   </td> <td>Van Nest    </td>\n",
              "        </tr>\n",
              "        <tr>\n",
              "            <td>0   </td> <td>Van Nest    </td>\n",
              "        </tr>\n",
              "    </tbody>\n",
              "</table>\n",
              "<p>... (2858 rows omitted)</p>"
            ]
          },
          "metadata": {},
          "execution_count": 22
        }
      ]
    },
    {
      "cell_type": "markdown",
      "source": [
        "# Task 2: Create Summary Statistics Using Table Operations (1 Mark)\n",
        "\n",
        "- Compute summary statistics (mean, median, min, max) for the attributes temperature, humidity, and pm25 using table operations like .column() and .apply().\n",
        "- Group the data by borough and calculate the average pm25 levels for each borough using .group() or .pivot().\n",
        "- Display the results in a new table."
      ],
      "metadata": {
        "id": "XTjfxfG209Ia"
      }
    },
    {
      "cell_type": "code",
      "source": [
        "all_columns = merged_data[['temperature','humidity','pm25','neighborhood','borough']]"
      ],
      "metadata": {
        "id": "B_a0IgZtDScE"
      },
      "execution_count": 23,
      "outputs": []
    },
    {
      "cell_type": "code",
      "source": [
        "joined_table2 = Table().from_df(all_columns)"
      ],
      "metadata": {
        "id": "7pR06cyMGjrX"
      },
      "execution_count": 24,
      "outputs": []
    },
    {
      "cell_type": "code",
      "source": [
        "joined_table2.show(5)"
      ],
      "metadata": {
        "colab": {
          "base_uri": "https://localhost:8080/",
          "height": 236
        },
        "id": "1B1dIDkLGnid",
        "outputId": "b70210d3-a2a2-45b6-d216-ca3a0ac6b14b"
      },
      "execution_count": 25,
      "outputs": [
        {
          "output_type": "display_data",
          "data": {
            "text/plain": [
              "<IPython.core.display.HTML object>"
            ],
            "text/html": [
              "<table border=\"1\" class=\"dataframe\">\n",
              "    <thead>\n",
              "        <tr>\n",
              "            <th>temperature</th> <th>humidity</th> <th>pm25</th> <th>neighborhood</th> <th>borough</th>\n",
              "        </tr>\n",
              "    </thead>\n",
              "    <tbody>\n",
              "        <tr>\n",
              "            <td>16.3       </td> <td>15.2    </td> <td>5.91</td> <td>Bronx Park  </td> <td>Bronx  </td>\n",
              "        </tr>\n",
              "        <tr>\n",
              "            <td>16.2       </td> <td>15.1    </td> <td>1.18</td> <td>Bronx Park  </td> <td>Bronx  </td>\n",
              "        </tr>\n",
              "        <tr>\n",
              "            <td>16.1       </td> <td>15.1    </td> <td>0.76</td> <td>Bronx Park  </td> <td>Bronx  </td>\n",
              "        </tr>\n",
              "        <tr>\n",
              "            <td>16.1       </td> <td>15.2    </td> <td>4.48</td> <td>Bronx Park  </td> <td>Bronx  </td>\n",
              "        </tr>\n",
              "        <tr>\n",
              "            <td>16         </td> <td>15.2    </td> <td>5.77</td> <td>Bronx Park  </td> <td>Bronx  </td>\n",
              "        </tr>\n",
              "    </tbody>\n",
              "</table>\n",
              "<p>... (118490 rows omitted)</p>"
            ]
          },
          "metadata": {}
        }
      ]
    },
    {
      "cell_type": "code",
      "source": [
        "#function to get the median\n",
        "def geting_median(table, column_name):\n",
        "    table_data = table.column(column_name)\n",
        "    return np.median(table_data)"
      ],
      "metadata": {
        "id": "Nvjzx6fRQE3e"
      },
      "execution_count": 26,
      "outputs": []
    },
    {
      "cell_type": "code",
      "source": [
        "#Compute summary statistics (mean, median, min, max) for the attributes temperature, humidity, and pm25 using table operations like .column() and .apply().\n",
        "\n",
        "avg_temp= joined_table2.column('temperature').mean()\n",
        "med_temp=geting_median(joined_table2,'temperature')\n",
        "min_temp=joined_table2.column('temperature').min()\n",
        "max_temp=joined_table2.column('temperature').max()\n",
        "print(\"average temperature:\",avg_temp)\n",
        "print(\"median temperature:\",med_temp)\n",
        "print(\"minimum temperature:\",min_temp)\n",
        "print(\"maximum temperature:\",max_temp)\n",
        "\n",
        "print(\"-------------------------------\")\n",
        "avg_hum=joined_table2.column('humidity').mean()\n",
        "med_hum=geting_median(joined_table2,'humidity')\n",
        "min_hum=joined_table2.column('humidity').min()\n",
        "max_hum=joined_table2.column('humidity').max()\n",
        "print(\"average humidity:\",avg_hum)\n",
        "print(\"median humidity:\",med_hum)\n",
        "print(\"minimum humidity:\",min_hum)\n",
        "print(\"maximum humidity:\",max_hum)\n",
        "\n",
        "print(\"-------------------------------\")\n",
        "avg_pm25=joined_table2.column('pm25').mean()\n",
        "med_pm25=geting_median(joined_table2,'pm25')\n",
        "min_pm25=joined_table2.column('pm25').min()\n",
        "max_pm25=joined_table2.column('pm25').max()\n",
        "print(\"average pm25:\",avg_pm25)\n",
        "print(\"median pm25:\",med_pm25)\n",
        "print(\"minimum pm25:\",min_pm25)\n",
        "print(\"maximum pm25:\",max_pm25)"
      ],
      "metadata": {
        "colab": {
          "base_uri": "https://localhost:8080/"
        },
        "id": "4nOMqDM80BML",
        "outputId": "f0d11563-b9ed-4f3c-8b1e-380734a17144"
      },
      "execution_count": 27,
      "outputs": [
        {
          "output_type": "stream",
          "name": "stdout",
          "text": [
            "average temperature: 8.24157728174\n",
            "median temperature: 7.2\n",
            "minimum temperature: -7.9\n",
            "maximum temperature: 10471.0\n",
            "-------------------------------\n",
            "average humidity: 50.1548647622\n",
            "median humidity: 46.2\n",
            "minimum humidity: 0.0\n",
            "maximum humidity: 104.2\n",
            "-------------------------------\n",
            "average pm25: 7.37451588675\n",
            "median pm25: 3.02\n",
            "minimum pm25: 0.0\n",
            "maximum pm25: 3267.02\n"
          ]
        }
      ]
    },
    {
      "cell_type": "code",
      "source": [
        "#Group the data by borough and calculate the average pm25 levels for each borough using .group() or .pivot().\n",
        "\n",
        "group_borough=joined_table2.group('borough',np.mean)\n",
        "\n",
        "borough_avgpm25=group_borough.select('borough','pm25 mean')\n",
        "borough_avgpm25.relabel('borough', 'Borough').relabel('pm25 mean', 'Avg pm25')\n",
        "borough_avgpm25.show()"
      ],
      "metadata": {
        "colab": {
          "base_uri": "https://localhost:8080/",
          "height": 175
        },
        "id": "RScd6D9F0IFY",
        "outputId": "a5b2e056-4d30-4f52-9b52-64669d1a9062"
      },
      "execution_count": 28,
      "outputs": [
        {
          "output_type": "display_data",
          "data": {
            "text/plain": [
              "<IPython.core.display.HTML object>"
            ],
            "text/html": [
              "<table border=\"1\" class=\"dataframe\">\n",
              "    <thead>\n",
              "        <tr>\n",
              "            <th>Borough</th> <th>Avg pm25</th>\n",
              "        </tr>\n",
              "    </thead>\n",
              "    <tbody>\n",
              "        <tr>\n",
              "            <td>Bronx    </td> <td>7.795   </td>\n",
              "        </tr>\n",
              "        <tr>\n",
              "            <td>Brooklyn </td> <td>1.99695 </td>\n",
              "        </tr>\n",
              "        <tr>\n",
              "            <td>Manhattan</td> <td>2.37332 </td>\n",
              "        </tr>\n",
              "        <tr>\n",
              "            <td>Queens   </td> <td>2.07253 </td>\n",
              "        </tr>\n",
              "    </tbody>\n",
              "</table>"
            ]
          },
          "metadata": {}
        }
      ]
    },
    {
      "cell_type": "code",
      "source": [
        "#Display the results in a new table.\n",
        "\n",
        "#group_borough.show()\n",
        "group_borough.relabel('borough', 'Borough')\n",
        "group_borough.relabel('temperature mean','Avg Temp').relabel('humidity mean','Avg humid').relabel('pm25 mean', 'Avg pm25')\n",
        "group_borough.drop('neighborhood mean')\n",
        "\n",
        "\n"
      ],
      "metadata": {
        "colab": {
          "base_uri": "https://localhost:8080/",
          "height": 175
        },
        "id": "R8VpD3Ak0KWv",
        "outputId": "d51e7fdf-1e94-4275-d796-04632fc96a41"
      },
      "execution_count": 29,
      "outputs": [
        {
          "output_type": "execute_result",
          "data": {
            "text/plain": [
              "Borough   | Avg Temp | Avg humid | Avg pm25\n",
              "Bronx     | 8.3146   | 50.6364   | 7.795\n",
              "Brooklyn  | 6.23632  | 67.5637   | 1.99695\n",
              "Manhattan | 7.4346   | 43.8045   | 2.37332\n",
              "Queens    | 7.16481  | 44.1307   | 2.07253"
            ],
            "text/html": [
              "<table border=\"1\" class=\"dataframe\">\n",
              "    <thead>\n",
              "        <tr>\n",
              "            <th>Borough</th> <th>Avg Temp</th> <th>Avg humid</th> <th>Avg pm25</th>\n",
              "        </tr>\n",
              "    </thead>\n",
              "    <tbody>\n",
              "        <tr>\n",
              "            <td>Bronx    </td> <td>8.3146  </td> <td>50.6364  </td> <td>7.795   </td>\n",
              "        </tr>\n",
              "        <tr>\n",
              "            <td>Brooklyn </td> <td>6.23632 </td> <td>67.5637  </td> <td>1.99695 </td>\n",
              "        </tr>\n",
              "        <tr>\n",
              "            <td>Manhattan</td> <td>7.4346  </td> <td>43.8045  </td> <td>2.37332 </td>\n",
              "        </tr>\n",
              "        <tr>\n",
              "            <td>Queens   </td> <td>7.16481 </td> <td>44.1307  </td> <td>2.07253 </td>\n",
              "        </tr>\n",
              "    </tbody>\n",
              "</table>"
            ]
          },
          "metadata": {},
          "execution_count": 29
        }
      ]
    },
    {
      "cell_type": "markdown",
      "source": [
        "# Task 3: Visualize the Data Using Table-Based Plots (1 Mark)\n",
        "\n",
        "- Create a bar chart showing the average pm25 levels for each borough using .barh().\n",
        "- Create a scatter plot to visualize the relationship between temperature and pm25 using .scatter(). Add appropriate labels and a title to the plot.\n",
        "- Create a histogram of humidity values across all neighborhoods using .hist()."
      ],
      "metadata": {
        "id": "2SD9uVHI1oNW"
      }
    },
    {
      "cell_type": "code",
      "source": [
        "#Create a bar chart showing the average pm25 levels for each borough using .barh().\n",
        "group_borough.sort('Avg pm25',descending=False).barh('Borough','Avg pm25')"
      ],
      "metadata": {
        "colab": {
          "base_uri": "https://localhost:8080/",
          "height": 410
        },
        "id": "lQHyFK5HE477",
        "outputId": "c64ef9ef-f9c0-487c-e992-98caf906cc10"
      },
      "execution_count": 30,
      "outputs": [
        {
          "output_type": "display_data",
          "data": {
            "text/plain": [
              "<Figure size 600x400 with 1 Axes>"
            ],
            "image/png": "[encoded data removed]"
          },
          "metadata": {}
        }
      ]
    },
    {
      "cell_type": "code",
      "source": [
        "#Create a scatter plot to visualize the relationship between temperature and pm25 using .scatter(). Add appropriate labels and a title to the plot.\n",
        "joined_table2.scatter('temperature','pm25')"
      ],
      "metadata": {
        "colab": {
          "base_uri": "https://localhost:8080/",
          "height": 491
        },
        "id": "9bmtr5XLE7Rh",
        "outputId": "a6cf1c3a-eba6-4cae-9c37-ff4ee92b396f"
      },
      "execution_count": 31,
      "outputs": [
        {
          "output_type": "display_data",
          "data": {
            "text/plain": [
              "<Figure size 500x500 with 1 Axes>"
            ],
            "image/png": "[encoded data removed]"
          },
          "metadata": {}
        }
      ]
    },
    {
      "cell_type": "code",
      "source": [
        "outliers_remove=joined_table2.where('pm25', are.below(1500)).where('temperature',are.below(2000))\n",
        "outliers_remove.scatter('temperature','pm25')\n",
        "plt.title(\"Scatter Plot of the relationship between temperature & pm25\")"
      ],
      "metadata": {
        "colab": {
          "base_uri": "https://localhost:8080/",
          "height": 539
        },
        "id": "0E2hoqcGH_fW",
        "outputId": "39a9eea3-3caa-4259-9b3c-8bba57657476"
      },
      "execution_count": 32,
      "outputs": [
        {
          "output_type": "execute_result",
          "data": {
            "text/plain": [
              "Text(0.5, 1.0, 'Scatter Plot of the relationship between temperature & pm25')"
            ]
          },
          "metadata": {},
          "execution_count": 32
        },
        {
          "output_type": "display_data",
          "data": {
            "text/plain": [
              "<Figure size 500x500 with 1 Axes>"
            ],
            "image/png": "[encoded data removed]"
          },
          "metadata": {}
        }
      ]
    },
    {
      "cell_type": "code",
      "source": [
        "#Create a histogram of humidity values across all neighborhoods using .hist().\n",
        "humidity_min_max=joined_table2.column('humidity')\n",
        "min(humidity_min_max),max(humidity_min_max)"
      ],
      "metadata": {
        "colab": {
          "base_uri": "https://localhost:8080/"
        },
        "id": "RA864wKoE9LU",
        "outputId": "1e2cd63b-5964-43ea-a6c5-66f6cd1e13e1"
      },
      "execution_count": 33,
      "outputs": [
        {
          "output_type": "execute_result",
          "data": {
            "text/plain": [
              "(0.0, 104.2)"
            ]
          },
          "metadata": {},
          "execution_count": 33
        }
      ]
    },
    {
      "cell_type": "code",
      "source": [
        "#binning to see the categories\n",
        "#bin_humidity = joined_table2.bin('humidity', bins=np.arange(0,110,10))\n",
        "#bin_humidity.show()"
      ],
      "metadata": {
        "colab": {
          "base_uri": "https://localhost:8080/",
          "height": 198
        },
        "collapsed": true,
        "id": "l4lYW-FCUWG4",
        "outputId": "3d1790c5-b9a5-4aff-c585-0acc9c41de15"
      },
      "execution_count": 86,
      "outputs": [
        {
          "output_type": "error",
          "ename": "TypeError",
          "evalue": "Table.with_column() missing 1 required positional argument: 'values'",
          "traceback": [
            "\u001b[0;31m---------------------------------------------------------------------------\u001b[0m",
            "\u001b[0;31mTypeError\u001b[0m                                 Traceback (most recent call last)",
            "\u001b[0;32m<ipython-input-86-14bdc0e97663>\u001b[0m in \u001b[0;36m<cell line: 0>\u001b[0;34m()\u001b[0m\n\u001b[1;32m      1\u001b[0m \u001b[0;31m#binning to see the categories\u001b[0m\u001b[0;34m\u001b[0m\u001b[0;34m\u001b[0m\u001b[0m\n\u001b[1;32m      2\u001b[0m \u001b[0mbin_humidity\u001b[0m \u001b[0;34m=\u001b[0m \u001b[0mjoined_table2\u001b[0m\u001b[0;34m.\u001b[0m\u001b[0mbin\u001b[0m\u001b[0;34m(\u001b[0m\u001b[0;34m'humidity'\u001b[0m\u001b[0;34m,\u001b[0m \u001b[0mbins\u001b[0m\u001b[0;34m=\u001b[0m\u001b[0mnp\u001b[0m\u001b[0;34m.\u001b[0m\u001b[0marange\u001b[0m\u001b[0;34m(\u001b[0m\u001b[0;36m0\u001b[0m\u001b[0;34m,\u001b[0m\u001b[0;36m110\u001b[0m\u001b[0;34m,\u001b[0m\u001b[0;36m10\u001b[0m\u001b[0;34m)\u001b[0m\u001b[0;34m)\u001b[0m\u001b[0;34m\u001b[0m\u001b[0;34m\u001b[0m\u001b[0m\n\u001b[0;32m----> 3\u001b[0;31m \u001b[0mbin_humidity\u001b[0m\u001b[0;34m.\u001b[0m\u001b[0mwith_column\u001b[0m\u001b[0;34m(\u001b[0m\u001b[0;34m'neighborhood'\u001b[0m\u001b[0;34m)\u001b[0m\u001b[0;34m\u001b[0m\u001b[0;34m\u001b[0m\u001b[0m\n\u001b[0m\u001b[1;32m      4\u001b[0m \u001b[0mbin_humidity\u001b[0m\u001b[0;34m.\u001b[0m\u001b[0mshow\u001b[0m\u001b[0;34m(\u001b[0m\u001b[0;34m)\u001b[0m\u001b[0;34m\u001b[0m\u001b[0;34m\u001b[0m\u001b[0m\n",
            "\u001b[0;31mTypeError\u001b[0m: Table.with_column() missing 1 required positional argument: 'values'"
          ]
        }
      ]
    },
    {
      "cell_type": "code",
      "source": [
        "humidity_count=joined_table2.bin('humidity')\n",
        "humidity_count.show()"
      ],
      "metadata": {
        "colab": {
          "base_uri": "https://localhost:8080/",
          "height": 394
        },
        "id": "-B4PO5xfU7AJ",
        "outputId": "bc4b006c-beef-42ec-9d9a-fb93e76100dd"
      },
      "execution_count": 82,
      "outputs": [
        {
          "output_type": "display_data",
          "data": {
            "text/plain": [
              "<IPython.core.display.HTML object>"
            ],
            "text/html": [
              "<table border=\"1\" class=\"dataframe\">\n",
              "    <thead>\n",
              "        <tr>\n",
              "            <th>bin</th> <th>humidity count</th>\n",
              "        </tr>\n",
              "    </thead>\n",
              "    <tbody>\n",
              "        <tr>\n",
              "            <td>0    </td> <td>1832          </td>\n",
              "        </tr>\n",
              "        <tr>\n",
              "            <td>10.42</td> <td>4604          </td>\n",
              "        </tr>\n",
              "        <tr>\n",
              "            <td>20.84</td> <td>13087         </td>\n",
              "        </tr>\n",
              "        <tr>\n",
              "            <td>31.26</td> <td>28420         </td>\n",
              "        </tr>\n",
              "        <tr>\n",
              "            <td>41.68</td> <td>22900         </td>\n",
              "        </tr>\n",
              "        <tr>\n",
              "            <td>52.1 </td> <td>15392         </td>\n",
              "        </tr>\n",
              "        <tr>\n",
              "            <td>62.52</td> <td>12820         </td>\n",
              "        </tr>\n",
              "        <tr>\n",
              "            <td>72.94</td> <td>10883         </td>\n",
              "        </tr>\n",
              "        <tr>\n",
              "            <td>83.36</td> <td>3695          </td>\n",
              "        </tr>\n",
              "        <tr>\n",
              "            <td>93.78</td> <td>4862          </td>\n",
              "        </tr>\n",
              "        <tr>\n",
              "            <td>104.2</td> <td>0             </td>\n",
              "        </tr>\n",
              "    </tbody>\n",
              "</table>"
            ]
          },
          "metadata": {}
        }
      ]
    },
    {
      "cell_type": "code",
      "source": [
        "joined_table2.hist('humidity')"
      ],
      "metadata": {
        "colab": {
          "base_uri": "https://localhost:8080/",
          "height": 410
        },
        "id": "3Rs2czCGVu9-",
        "outputId": "fdc935b4-df7f-4e0d-849e-c126e14c1b18"
      },
      "execution_count": 87,
      "outputs": [
        {
          "output_type": "display_data",
          "data": {
            "text/plain": [
              "<Figure size 600x400 with 1 Axes>"
            ],
            "image/png": "[encoded data removed]"
          },
          "metadata": {}
        }
      ]
    },
    {
      "cell_type": "markdown",
      "source": [
        "# Task 4: Define and Use Functions with Tables (1 Mark)\n",
        "\n",
        "- Write a function calculate_pm25_category(pm25) that categorizes PM2.5 levels as follows:\n",
        "\"Good\" if pm25 < 12\n",
        "\"Moderate\" if 12 <= pm25 < 35\n",
        "\"Unhealthy\" if pm25 >= 35\n",
        "- Apply this function to the pm25 column in the table using .apply() to create a new column called PM25_Category.\n",
        "- Count the number of sensors in each PM2.5 category and display the results using .group().\n"
      ],
      "metadata": {
        "id": "xTWFUDGX1v1F"
      }
    },
    {
      "cell_type": "code",
      "source": [
        "all_columns2 = merged_data[['temperature','humidity','pm25','neighborhood','borough','SensorID']]\n",
        "joined_table3 = Table().from_df(all_columns2)\n",
        "joined_table3.show(5)"
      ],
      "metadata": {
        "colab": {
          "base_uri": "https://localhost:8080/",
          "height": 236
        },
        "id": "MChcFwcMcc3z",
        "outputId": "237a1e1a-10a0-41df-8723-c3905d99fc96"
      },
      "execution_count": 37,
      "outputs": [
        {
          "output_type": "display_data",
          "data": {
            "text/plain": [
              "<IPython.core.display.HTML object>"
            ],
            "text/html": [
              "<table border=\"1\" class=\"dataframe\">\n",
              "    <thead>\n",
              "        <tr>\n",
              "            <th>temperature</th> <th>humidity</th> <th>pm25</th> <th>neighborhood</th> <th>borough</th> <th>SensorID</th>\n",
              "        </tr>\n",
              "    </thead>\n",
              "    <tbody>\n",
              "        <tr>\n",
              "            <td>16.3       </td> <td>15.2    </td> <td>5.91</td> <td>Bronx Park  </td> <td>Bronx  </td> <td>NYCP1_01A</td>\n",
              "        </tr>\n",
              "        <tr>\n",
              "            <td>16.2       </td> <td>15.1    </td> <td>1.18</td> <td>Bronx Park  </td> <td>Bronx  </td> <td>NYCP1_01A</td>\n",
              "        </tr>\n",
              "        <tr>\n",
              "            <td>16.1       </td> <td>15.1    </td> <td>0.76</td> <td>Bronx Park  </td> <td>Bronx  </td> <td>NYCP1_01A</td>\n",
              "        </tr>\n",
              "        <tr>\n",
              "            <td>16.1       </td> <td>15.2    </td> <td>4.48</td> <td>Bronx Park  </td> <td>Bronx  </td> <td>NYCP1_01A</td>\n",
              "        </tr>\n",
              "        <tr>\n",
              "            <td>16         </td> <td>15.2    </td> <td>5.77</td> <td>Bronx Park  </td> <td>Bronx  </td> <td>NYCP1_01A</td>\n",
              "        </tr>\n",
              "    </tbody>\n",
              "</table>\n",
              "<p>... (118490 rows omitted)</p>"
            ]
          },
          "metadata": {}
        }
      ]
    },
    {
      "cell_type": "code",
      "source": [
        "#Write a function calculate_pm25_category(pm25) that categorizes PM2.5 levels as follows:\n",
        "#\"Good\" if pm25 < 12 \"Moderate\" if 12 <= pm25 < 35 \"Unhealthy\" if pm25 >= 35\n",
        "def calculate_pm25_category(pm25):\n",
        "  if pm25 < 12:\n",
        "    return \"Good\"\n",
        "  elif 12 <= pm25 < 35:\n",
        "    return \"Moderate\"\n",
        "  else:\n",
        "    return \"Unhealthy\""
      ],
      "metadata": {
        "id": "7CE-KynKZRPV"
      },
      "execution_count": 38,
      "outputs": []
    },
    {
      "cell_type": "code",
      "source": [
        "#Apply this function to the pm25 column in the table using .apply() to create a new column called PM25_Category.\n",
        "pm25_table=joined_table3.with_column(\"PM25_Category\", joined_table3.apply(calculate_pm25_category, \"pm25\"))\n",
        "pm25_table.show(5)"
      ],
      "metadata": {
        "colab": {
          "base_uri": "https://localhost:8080/",
          "height": 236
        },
        "id": "St5GXI_tZWlU",
        "outputId": "9684942c-6fb8-465d-cc99-acee8ec554bb"
      },
      "execution_count": 39,
      "outputs": [
        {
          "output_type": "display_data",
          "data": {
            "text/plain": [
              "<IPython.core.display.HTML object>"
            ],
            "text/html": [
              "<table border=\"1\" class=\"dataframe\">\n",
              "    <thead>\n",
              "        <tr>\n",
              "            <th>temperature</th> <th>humidity</th> <th>pm25</th> <th>neighborhood</th> <th>borough</th> <th>SensorID</th> <th>PM25_Category</th>\n",
              "        </tr>\n",
              "    </thead>\n",
              "    <tbody>\n",
              "        <tr>\n",
              "            <td>16.3       </td> <td>15.2    </td> <td>5.91</td> <td>Bronx Park  </td> <td>Bronx  </td> <td>NYCP1_01A</td> <td>Good         </td>\n",
              "        </tr>\n",
              "        <tr>\n",
              "            <td>16.2       </td> <td>15.1    </td> <td>1.18</td> <td>Bronx Park  </td> <td>Bronx  </td> <td>NYCP1_01A</td> <td>Good         </td>\n",
              "        </tr>\n",
              "        <tr>\n",
              "            <td>16.1       </td> <td>15.1    </td> <td>0.76</td> <td>Bronx Park  </td> <td>Bronx  </td> <td>NYCP1_01A</td> <td>Good         </td>\n",
              "        </tr>\n",
              "        <tr>\n",
              "            <td>16.1       </td> <td>15.2    </td> <td>4.48</td> <td>Bronx Park  </td> <td>Bronx  </td> <td>NYCP1_01A</td> <td>Good         </td>\n",
              "        </tr>\n",
              "        <tr>\n",
              "            <td>16         </td> <td>15.2    </td> <td>5.77</td> <td>Bronx Park  </td> <td>Bronx  </td> <td>NYCP1_01A</td> <td>Good         </td>\n",
              "        </tr>\n",
              "    </tbody>\n",
              "</table>\n",
              "<p>... (118490 rows omitted)</p>"
            ]
          },
          "metadata": {}
        }
      ]
    },
    {
      "cell_type": "code",
      "source": [
        "#Count the number of sensors in each PM2.5 category and display the results using .group().\n",
        "pm25_table.group('SensorID')"
      ],
      "metadata": {
        "colab": {
          "base_uri": "https://localhost:8080/",
          "height": 81
        },
        "id": "Pf9yh0F-ZY6b",
        "outputId": "396f4126-d282-4c74-b610-1c8a06a5d58d"
      },
      "execution_count": 40,
      "outputs": [
        {
          "output_type": "execute_result",
          "data": {
            "text/plain": [
              "SensorID  | count\n",
              "NYCP1_01A | 118495"
            ],
            "text/html": [
              "<table border=\"1\" class=\"dataframe\">\n",
              "    <thead>\n",
              "        <tr>\n",
              "            <th>SensorID</th> <th>count</th>\n",
              "        </tr>\n",
              "    </thead>\n",
              "    <tbody>\n",
              "        <tr>\n",
              "            <td>NYCP1_01A</td> <td>118495</td>\n",
              "        </tr>\n",
              "    </tbody>\n",
              "</table>"
            ]
          },
          "metadata": {},
          "execution_count": 40
        }
      ]
    },
    {
      "cell_type": "markdown",
      "source": [
        "there it shows that we have only one sensor ID, so it is probably a sensor that moves its location"
      ],
      "metadata": {
        "id": "3gGEHheehOac"
      }
    },
    {
      "cell_type": "code",
      "source": [
        "pm25_table.group('PM25_Category')\n"
      ],
      "metadata": {
        "colab": {
          "base_uri": "https://localhost:8080/",
          "height": 143
        },
        "id": "K8uGEI7_gSiv",
        "outputId": "80510e43-402f-433b-9c42-b9dae6d94d9b"
      },
      "execution_count": 43,
      "outputs": [
        {
          "output_type": "execute_result",
          "data": {
            "text/plain": [
              "PM25_Category | count\n",
              "Good          | 101851\n",
              "Moderate      | 12651\n",
              "Unhealthy     | 3993"
            ],
            "text/html": [
              "<table border=\"1\" class=\"dataframe\">\n",
              "    <thead>\n",
              "        <tr>\n",
              "            <th>PM25_Category</th> <th>count</th>\n",
              "        </tr>\n",
              "    </thead>\n",
              "    <tbody>\n",
              "        <tr>\n",
              "            <td>Good         </td> <td>101851</td>\n",
              "        </tr>\n",
              "        <tr>\n",
              "            <td>Moderate     </td> <td>12651 </td>\n",
              "        </tr>\n",
              "        <tr>\n",
              "            <td>Unhealthy    </td> <td>3993  </td>\n",
              "        </tr>\n",
              "    </tbody>\n",
              "</table>"
            ]
          },
          "metadata": {},
          "execution_count": 43
        }
      ]
    },
    {
      "cell_type": "markdown",
      "source": [
        "when we add the counts of the table it equels the total count on the SensorID count"
      ],
      "metadata": {
        "id": "RNGf-ETmjB_U"
      }
    },
    {
      "cell_type": "markdown",
      "source": [
        "# Task 5: Simulate Random Sampling Using Tables (1 Mark)\n",
        "- Randomly sample 10% of the rows from the table without replacement using .sample().\n",
        "- Calculate the mean pm25 level for the sampled data.\n",
        "- Repeat the random sampling process 100 times and store the mean pm25 values from each iteration in a list.\n",
        "- Create a histogram of the 100 mean pm25 values to visualize the distribution of sample means."
      ],
      "metadata": {
        "id": "QPc8TD9i2CCu"
      }
    },
    {
      "cell_type": "code",
      "source": [
        "#Randomly sample 10% of the rows from the table without replacement using .sample().\n",
        "\n",
        "#converting to percentage , total rows=118495\n",
        "convert_percent = round(joined_table3.num_rows * 0.1)\n",
        "sampling_table = joined_table3.sample(convert_percent, with_replacement=False)\n",
        "sampling_table.num_rows"
      ],
      "metadata": {
        "colab": {
          "base_uri": "https://localhost:8080/"
        },
        "id": "b6GlHAmotGhB",
        "outputId": "99fd9c41-07fd-427d-802e-ef129195f450"
      },
      "execution_count": 44,
      "outputs": [
        {
          "output_type": "execute_result",
          "data": {
            "text/plain": [
              "11850"
            ]
          },
          "metadata": {},
          "execution_count": 44
        }
      ]
    },
    {
      "cell_type": "code",
      "source": [
        "#Calculate the mean pm25 level for the sampled data.\n",
        "pm25_sample_mean=round(np.mean(sampling_table.column(\"pm25\")),2)\n",
        "print(\"the mean of pm25 level is: \",pm25_sample_mean)"
      ],
      "metadata": {
        "colab": {
          "base_uri": "https://localhost:8080/"
        },
        "id": "PgW7Tw7-tI6A",
        "outputId": "73f74eb6-a62b-4a01-a941-dfbbf2320e24"
      },
      "execution_count": 45,
      "outputs": [
        {
          "output_type": "stream",
          "name": "stdout",
          "text": [
            "the mean of pm25 level is:  7.69\n"
          ]
        }
      ]
    },
    {
      "cell_type": "code",
      "source": [
        "#Repeat the random sampling process 100 times and store the mean pm25 values from each iteration in a list.\n",
        "itter_list=[]\n",
        "for i in range(100):\n",
        "  convert_percent = round(joined_table3.num_rows * 0.1)\n",
        "  sampling_table = joined_table3.sample(convert_percent, with_replacement=False)\n",
        "\n",
        "  pm25_sample_mean=np.mean(sampling_table.column(\"pm25\"))\n",
        "  itter_list.append(round(pm25_sample_mean, 2))\n",
        "#print(itter_list)"
      ],
      "metadata": {
        "colab": {
          "base_uri": "https://localhost:8080/"
        },
        "id": "qx8wze0FtLRz",
        "outputId": "d64e25af-d9d5-4999-faf9-8799c8631405"
      },
      "execution_count": 61,
      "outputs": [
        {
          "output_type": "stream",
          "name": "stdout",
          "text": [
            "[7.7199999999999998, 7.5800000000000001, 7.9100000000000001, 7.2300000000000004, 7.0800000000000001, 7.9000000000000004, 7.6200000000000001, 7.4100000000000001, 7.4500000000000002, 7.3899999999999997, 7.4000000000000004, 7.5499999999999998, 7.6200000000000001, 7.2999999999999998, 7.2199999999999998, 7.3200000000000003, 7.7000000000000002, 7.5, 7.4900000000000002, 7.3300000000000001, 7.1699999999999999, 7.4000000000000004, 7.1699999999999999, 7.3700000000000001, 7.2999999999999998, 7.4000000000000004, 7.8399999999999999, 7.2599999999999998, 7.1799999999999997, 7.1399999999999997, 7.5999999999999996, 7.21, 7.5499999999999998, 7.5800000000000001, 7.1600000000000001, 7.7400000000000002, 7.1399999999999997, 7.2400000000000002, 7.6399999999999997, 7.2599999999999998, 7.2800000000000002, 7.3799999999999999, 7.5, 7.4900000000000002, 7.3899999999999997, 7.6299999999999999, 7.29, 7.3099999999999996, 7.4100000000000001, 7.5099999999999998, 7.3200000000000003, 7.5800000000000001, 7.0099999999999998, 7.8399999999999999, 7.25, 7.1900000000000004, 7.29, 7.1799999999999997, 7.1600000000000001, 7.1900000000000004, 7.3600000000000003, 7.3099999999999996, 7.3799999999999999, 7.46, 7.3600000000000003, 7.3499999999999996, 7.4400000000000004, 7.4299999999999997, 7.3099999999999996, 7.4500000000000002, 7.2000000000000002, 7.2800000000000002, 7.2199999999999998, 7.25, 7.4199999999999999, 7.1900000000000004, 7.3899999999999997, 7.3099999999999996, 7.4100000000000001, 7.2599999999999998, 7.4299999999999997, 7.3600000000000003, 7.4299999999999997, 7.2199999999999998, 7.4000000000000004, 7.6900000000000004, 7.4400000000000004, 7.1200000000000001, 7.2000000000000002, 7.3300000000000001, 7.5599999999999996, 7.2300000000000004, 7.46, 7.6100000000000003, 7.3499999999999996, 7.6600000000000001, 7.8700000000000001, 7.5700000000000003, 7.29, 7.9100000000000001]\n"
          ]
        }
      ]
    },
    {
      "cell_type": "code",
      "source": [
        "len(itter_list)"
      ],
      "metadata": {
        "colab": {
          "base_uri": "https://localhost:8080/"
        },
        "id": "JQbH9zqE4Cbd",
        "outputId": "2801328a-2f15-484b-8621-daab17cbdfa7"
      },
      "execution_count": 62,
      "outputs": [
        {
          "output_type": "execute_result",
          "data": {
            "text/plain": [
              "100"
            ]
          },
          "metadata": {},
          "execution_count": 62
        }
      ]
    },
    {
      "cell_type": "code",
      "source": [
        "simulated_values=Table().with_columns(\n",
        "    'num of repetition', np.arange(1, 100 + 1),\n",
        "    'pm25 averages', itter_list\n",
        ")"
      ],
      "metadata": {
        "id": "ZdwaFAcW5Y8v"
      },
      "execution_count": 63,
      "outputs": []
    },
    {
      "cell_type": "code",
      "source": [
        "simulated_values.show()"
      ],
      "metadata": {
        "colab": {
          "base_uri": "https://localhost:8080/",
          "height": 1000
        },
        "id": "dXrS2U5M5rV7",
        "outputId": "1558eb50-447a-4cad-80fa-72cd502ab385"
      },
      "execution_count": 65,
      "outputs": [
        {
          "output_type": "display_data",
          "data": {
            "text/plain": [
              "<IPython.core.display.HTML object>"
            ],
            "text/html": [
              "<table border=\"1\" class=\"dataframe\">\n",
              "    <thead>\n",
              "        <tr>\n",
              "            <th>Repetition</th> <th>pm25 average</th>\n",
              "        </tr>\n",
              "    </thead>\n",
              "    <tbody>\n",
              "        <tr>\n",
              "            <td>1         </td> <td>7.72        </td>\n",
              "        </tr>\n",
              "        <tr>\n",
              "            <td>2         </td> <td>7.58        </td>\n",
              "        </tr>\n",
              "        <tr>\n",
              "            <td>3         </td> <td>7.91        </td>\n",
              "        </tr>\n",
              "        <tr>\n",
              "            <td>4         </td> <td>7.23        </td>\n",
              "        </tr>\n",
              "        <tr>\n",
              "            <td>5         </td> <td>7.08        </td>\n",
              "        </tr>\n",
              "        <tr>\n",
              "            <td>6         </td> <td>7.9         </td>\n",
              "        </tr>\n",
              "        <tr>\n",
              "            <td>7         </td> <td>7.62        </td>\n",
              "        </tr>\n",
              "        <tr>\n",
              "            <td>8         </td> <td>7.41        </td>\n",
              "        </tr>\n",
              "        <tr>\n",
              "            <td>9         </td> <td>7.45        </td>\n",
              "        </tr>\n",
              "        <tr>\n",
              "            <td>10        </td> <td>7.39        </td>\n",
              "        </tr>\n",
              "        <tr>\n",
              "            <td>11        </td> <td>7.4         </td>\n",
              "        </tr>\n",
              "        <tr>\n",
              "            <td>12        </td> <td>7.55        </td>\n",
              "        </tr>\n",
              "        <tr>\n",
              "            <td>13        </td> <td>7.62        </td>\n",
              "        </tr>\n",
              "        <tr>\n",
              "            <td>14        </td> <td>7.3         </td>\n",
              "        </tr>\n",
              "        <tr>\n",
              "            <td>15        </td> <td>7.22        </td>\n",
              "        </tr>\n",
              "        <tr>\n",
              "            <td>16        </td> <td>7.32        </td>\n",
              "        </tr>\n",
              "        <tr>\n",
              "            <td>17        </td> <td>7.7         </td>\n",
              "        </tr>\n",
              "        <tr>\n",
              "            <td>18        </td> <td>7.5         </td>\n",
              "        </tr>\n",
              "        <tr>\n",
              "            <td>19        </td> <td>7.49        </td>\n",
              "        </tr>\n",
              "        <tr>\n",
              "            <td>20        </td> <td>7.33        </td>\n",
              "        </tr>\n",
              "        <tr>\n",
              "            <td>21        </td> <td>7.17        </td>\n",
              "        </tr>\n",
              "        <tr>\n",
              "            <td>22        </td> <td>7.4         </td>\n",
              "        </tr>\n",
              "        <tr>\n",
              "            <td>23        </td> <td>7.17        </td>\n",
              "        </tr>\n",
              "        <tr>\n",
              "            <td>24        </td> <td>7.37        </td>\n",
              "        </tr>\n",
              "        <tr>\n",
              "            <td>25        </td> <td>7.3         </td>\n",
              "        </tr>\n",
              "        <tr>\n",
              "            <td>26        </td> <td>7.4         </td>\n",
              "        </tr>\n",
              "        <tr>\n",
              "            <td>27        </td> <td>7.84        </td>\n",
              "        </tr>\n",
              "        <tr>\n",
              "            <td>28        </td> <td>7.26        </td>\n",
              "        </tr>\n",
              "        <tr>\n",
              "            <td>29        </td> <td>7.18        </td>\n",
              "        </tr>\n",
              "        <tr>\n",
              "            <td>30        </td> <td>7.14        </td>\n",
              "        </tr>\n",
              "        <tr>\n",
              "            <td>31        </td> <td>7.6         </td>\n",
              "        </tr>\n",
              "        <tr>\n",
              "            <td>32        </td> <td>7.21        </td>\n",
              "        </tr>\n",
              "        <tr>\n",
              "            <td>33        </td> <td>7.55        </td>\n",
              "        </tr>\n",
              "        <tr>\n",
              "            <td>34        </td> <td>7.58        </td>\n",
              "        </tr>\n",
              "        <tr>\n",
              "            <td>35        </td> <td>7.16        </td>\n",
              "        </tr>\n",
              "        <tr>\n",
              "            <td>36        </td> <td>7.74        </td>\n",
              "        </tr>\n",
              "        <tr>\n",
              "            <td>37        </td> <td>7.14        </td>\n",
              "        </tr>\n",
              "        <tr>\n",
              "            <td>38        </td> <td>7.24        </td>\n",
              "        </tr>\n",
              "        <tr>\n",
              "            <td>39        </td> <td>7.64        </td>\n",
              "        </tr>\n",
              "        <tr>\n",
              "            <td>40        </td> <td>7.26        </td>\n",
              "        </tr>\n",
              "        <tr>\n",
              "            <td>41        </td> <td>7.28        </td>\n",
              "        </tr>\n",
              "        <tr>\n",
              "            <td>42        </td> <td>7.38        </td>\n",
              "        </tr>\n",
              "        <tr>\n",
              "            <td>43        </td> <td>7.5         </td>\n",
              "        </tr>\n",
              "        <tr>\n",
              "            <td>44        </td> <td>7.49        </td>\n",
              "        </tr>\n",
              "        <tr>\n",
              "            <td>45        </td> <td>7.39        </td>\n",
              "        </tr>\n",
              "        <tr>\n",
              "            <td>46        </td> <td>7.63        </td>\n",
              "        </tr>\n",
              "        <tr>\n",
              "            <td>47        </td> <td>7.29        </td>\n",
              "        </tr>\n",
              "        <tr>\n",
              "            <td>48        </td> <td>7.31        </td>\n",
              "        </tr>\n",
              "        <tr>\n",
              "            <td>49        </td> <td>7.41        </td>\n",
              "        </tr>\n",
              "        <tr>\n",
              "            <td>50        </td> <td>7.51        </td>\n",
              "        </tr>\n",
              "        <tr>\n",
              "            <td>51        </td> <td>7.32        </td>\n",
              "        </tr>\n",
              "        <tr>\n",
              "            <td>52        </td> <td>7.58        </td>\n",
              "        </tr>\n",
              "        <tr>\n",
              "            <td>53        </td> <td>7.01        </td>\n",
              "        </tr>\n",
              "        <tr>\n",
              "            <td>54        </td> <td>7.84        </td>\n",
              "        </tr>\n",
              "        <tr>\n",
              "            <td>55        </td> <td>7.25        </td>\n",
              "        </tr>\n",
              "        <tr>\n",
              "            <td>56        </td> <td>7.19        </td>\n",
              "        </tr>\n",
              "        <tr>\n",
              "            <td>57        </td> <td>7.29        </td>\n",
              "        </tr>\n",
              "        <tr>\n",
              "            <td>58        </td> <td>7.18        </td>\n",
              "        </tr>\n",
              "        <tr>\n",
              "            <td>59        </td> <td>7.16        </td>\n",
              "        </tr>\n",
              "        <tr>\n",
              "            <td>60        </td> <td>7.19        </td>\n",
              "        </tr>\n",
              "        <tr>\n",
              "            <td>61        </td> <td>7.36        </td>\n",
              "        </tr>\n",
              "        <tr>\n",
              "            <td>62        </td> <td>7.31        </td>\n",
              "        </tr>\n",
              "        <tr>\n",
              "            <td>63        </td> <td>7.38        </td>\n",
              "        </tr>\n",
              "        <tr>\n",
              "            <td>64        </td> <td>7.46        </td>\n",
              "        </tr>\n",
              "        <tr>\n",
              "            <td>65        </td> <td>7.36        </td>\n",
              "        </tr>\n",
              "        <tr>\n",
              "            <td>66        </td> <td>7.35        </td>\n",
              "        </tr>\n",
              "        <tr>\n",
              "            <td>67        </td> <td>7.44        </td>\n",
              "        </tr>\n",
              "        <tr>\n",
              "            <td>68        </td> <td>7.43        </td>\n",
              "        </tr>\n",
              "        <tr>\n",
              "            <td>69        </td> <td>7.31        </td>\n",
              "        </tr>\n",
              "        <tr>\n",
              "            <td>70        </td> <td>7.45        </td>\n",
              "        </tr>\n",
              "        <tr>\n",
              "            <td>71        </td> <td>7.2         </td>\n",
              "        </tr>\n",
              "        <tr>\n",
              "            <td>72        </td> <td>7.28        </td>\n",
              "        </tr>\n",
              "        <tr>\n",
              "            <td>73        </td> <td>7.22        </td>\n",
              "        </tr>\n",
              "        <tr>\n",
              "            <td>74        </td> <td>7.25        </td>\n",
              "        </tr>\n",
              "        <tr>\n",
              "            <td>75        </td> <td>7.42        </td>\n",
              "        </tr>\n",
              "        <tr>\n",
              "            <td>76        </td> <td>7.19        </td>\n",
              "        </tr>\n",
              "        <tr>\n",
              "            <td>77        </td> <td>7.39        </td>\n",
              "        </tr>\n",
              "        <tr>\n",
              "            <td>78        </td> <td>7.31        </td>\n",
              "        </tr>\n",
              "        <tr>\n",
              "            <td>79        </td> <td>7.41        </td>\n",
              "        </tr>\n",
              "        <tr>\n",
              "            <td>80        </td> <td>7.26        </td>\n",
              "        </tr>\n",
              "        <tr>\n",
              "            <td>81        </td> <td>7.43        </td>\n",
              "        </tr>\n",
              "        <tr>\n",
              "            <td>82        </td> <td>7.36        </td>\n",
              "        </tr>\n",
              "        <tr>\n",
              "            <td>83        </td> <td>7.43        </td>\n",
              "        </tr>\n",
              "        <tr>\n",
              "            <td>84        </td> <td>7.22        </td>\n",
              "        </tr>\n",
              "        <tr>\n",
              "            <td>85        </td> <td>7.4         </td>\n",
              "        </tr>\n",
              "        <tr>\n",
              "            <td>86        </td> <td>7.69        </td>\n",
              "        </tr>\n",
              "        <tr>\n",
              "            <td>87        </td> <td>7.44        </td>\n",
              "        </tr>\n",
              "        <tr>\n",
              "            <td>88        </td> <td>7.12        </td>\n",
              "        </tr>\n",
              "        <tr>\n",
              "            <td>89        </td> <td>7.2         </td>\n",
              "        </tr>\n",
              "        <tr>\n",
              "            <td>90        </td> <td>7.33        </td>\n",
              "        </tr>\n",
              "        <tr>\n",
              "            <td>91        </td> <td>7.56        </td>\n",
              "        </tr>\n",
              "        <tr>\n",
              "            <td>92        </td> <td>7.23        </td>\n",
              "        </tr>\n",
              "        <tr>\n",
              "            <td>93        </td> <td>7.46        </td>\n",
              "        </tr>\n",
              "        <tr>\n",
              "            <td>94        </td> <td>7.61        </td>\n",
              "        </tr>\n",
              "        <tr>\n",
              "            <td>95        </td> <td>7.35        </td>\n",
              "        </tr>\n",
              "        <tr>\n",
              "            <td>96        </td> <td>7.66        </td>\n",
              "        </tr>\n",
              "        <tr>\n",
              "            <td>97        </td> <td>7.87        </td>\n",
              "        </tr>\n",
              "        <tr>\n",
              "            <td>98        </td> <td>7.57        </td>\n",
              "        </tr>\n",
              "        <tr>\n",
              "            <td>99        </td> <td>7.29        </td>\n",
              "        </tr>\n",
              "        <tr>\n",
              "            <td>100       </td> <td>7.91        </td>\n",
              "        </tr>\n",
              "    </tbody>\n",
              "</table>"
            ]
          },
          "metadata": {}
        }
      ]
    },
    {
      "cell_type": "code",
      "source": [
        "#Create a histogram of the 100 mean pm25 values to visualize the distribution of sample means.\n",
        "simulated_values.hist('pm25 averages')"
      ],
      "metadata": {
        "colab": {
          "base_uri": "https://localhost:8080/",
          "height": 410
        },
        "id": "z1sjUCCntOYR",
        "outputId": "4fc979bc-bc23-4cfa-8c5f-33100e09e665"
      },
      "execution_count": 78,
      "outputs": [
        {
          "output_type": "display_data",
          "data": {
            "text/plain": [
              "<Figure size 600x400 with 1 Axes>"
            ],
            "image/png": "[encoded data removed]"
          },
          "metadata": {}
        }
      ]
    },
    {
      "cell_type": "markdown",
      "source": [
        "# Submission Guidelines\n",
        "- Add a \"Open in Colab\" button at the top of your notebook using the following Markdown code:\n",
        "[![Open In Colab](https://colab.research.google.com/assets/colab-badge.svg)](https://colab.research.google.com/github/your-repo-path/notebook.ipynb)\n",
        "\n",
        "- Upload your completed Jupyter Notebook to a GitHub repository.\n",
        "- Submit the link to your GitHub repository in the Blackboard LMS along with the Jupyter solution file.\n",
        "- <font color = red size = 6> ATTENTION!!! </font> Students are encouraged to work on groups, however the submission should be individual and each student should have her/his own unique final assignment solution, which is to be submitted in BB"
      ],
      "metadata": {
        "id": "kM16Gy602H1X"
      }
    },
    {
      "cell_type": "markdown",
      "source": [
        "# Grading Rubric\n",
        "- Each task is worth 1 mark , based on the following criteria:\n",
        "\n",
        "- Correctness : The solution produces the expected output using the Table abstraction .\n",
        "- Clarity : Code is well-organized, readable, and includes comments explaining key steps.\n",
        "- Creativity : Visualizations and analyses are presented in an engaging and insightful manner."
      ],
      "metadata": {
        "id": "dY2-OB4A2huX"
      }
    },
    {
      "cell_type": "markdown",
      "source": [
        "# Hints for Success\n",
        "- Use the Table abstraction methods like .select(), .where(), .group(), .apply(), and .sample() for data manipulation.\n",
        "- Refer to the slides and examples from book Chapters 6, 7, 8, and 9 for guidance on tables, functions, visualizations, and randomness.\n",
        "- Test your code frequently to ensure it runs without errors."
      ],
      "metadata": {
        "id": "0GlfWQnV2r9v"
      }
    }
  ]
}